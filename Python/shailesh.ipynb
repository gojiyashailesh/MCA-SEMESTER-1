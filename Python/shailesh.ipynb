{
 "cells": [
  {
   "cell_type": "code",
   "execution_count": 2,
   "metadata": {},
   "outputs": [
    {
     "name": "stdout",
     "output_type": "stream",
     "text": [
      "Original Array : array('i', [1, 2, 5, 3, 9])\n",
      "Extended array: array('i', [1, 2, 5, 3, 9, 1, 2, 5, 7, 9])\n"
     ]
    }
   ],
   "source": [
    "import numpy as np\n",
    "from array import array\n",
    "\n",
    "original_arr =array(\"i\",[1,2,5,3,9])\n",
    "print(\"Original Array :\", original_arr)\n",
    "\n",
    "iterable_arr=[1,2,5,7,9]\n",
    "original_arr.extend(iterable_arr)\n",
    "\n",
    "print(\"Extended array:\",original_arr)"
   ]
  },
  {
   "cell_type": "code",
   "execution_count": 8,
   "metadata": {},
   "outputs": [
    {
     "name": "stdout",
     "output_type": "stream",
     "text": [
      "mylist: [ 12.23  13.32 100.    36.32]\n",
      "<class 'numpy.ndarray'>\n"
     ]
    }
   ],
   "source": [
    "import numpy as np\n",
    "from array import array\n",
    "\n",
    "mylist = [12.23, 13.32, 100, 36.32]\n",
    "mylist = np.array(mylist)\n",
    "print(\"mylist:\",mylist)\n",
    "print(type(mylist))\n"
   ]
  },
  {
   "cell_type": "code",
   "execution_count": 23,
   "metadata": {},
   "outputs": [
    {
     "name": "stdout",
     "output_type": "stream",
     "text": [
      "Original array: array('i', [1, 3, 5, 3, 7, 9, 3])\n",
      "Number of occurrences of the number 3 in the array: 3\n"
     ]
    }
   ],
   "source": [
    "from array import array\n",
    "\n",
    "# Define the original array\n",
    "original_array = array('i', [1, 3, 5, 3, 7, 9, 3])\n",
    "print(\"Original array:\", original_array)\n",
    "\n",
    "# Specified element to count occurrences\n",
    "specified_element = 3\n",
    "\n",
    "# Count the occurrences of the specified element in the array\n",
    "occurrences = original_array.count(specified_element)\n",
    "\n",
    "# Output the results\n",
    "print(f\"Number of occurrences of the number {specified_element} in the array:\", occurrences)\n"
   ]
  },
  {
   "cell_type": "code",
   "execution_count": null,
   "metadata": {},
   "outputs": [],
   "source": []
  }
 ],
 "metadata": {
  "kernelspec": {
   "display_name": "Python 3",
   "language": "python",
   "name": "python3"
  },
  "language_info": {
   "codemirror_mode": {
    "name": "ipython",
    "version": 3
   },
   "file_extension": ".py",
   "mimetype": "text/x-python",
   "name": "python",
   "nbconvert_exporter": "python",
   "pygments_lexer": "ipython3",
   "version": "3.11.7"
  }
 },
 "nbformat": 4,
 "nbformat_minor": 2
}
